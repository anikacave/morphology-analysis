{
 "cells": [
  {
   "cell_type": "code",
   "execution_count": 1,
   "metadata": {},
   "outputs": [],
   "source": [
    "import SciServer.SkyServer as SkyServer\n",
    "import SciServer.CasJobs as CasJobs\n",
    "import SciServer.SciDrive as SciDrive"
   ]
  },
  {
   "cell_type": "code",
   "execution_count": 5,
   "metadata": {},
   "outputs": [],
   "source": [
    "import numpy as np\n",
    "import scipy.misc as imsave\n",
    "import pandas as pd\n",
    "import matplotlib.pyplot as plt\n",
    "import math\n",
    "import seaborn as sns"
   ]
  },
  {
   "cell_type": "code",
   "execution_count": 6,
   "metadata": {},
   "outputs": [
    {
     "name": "stdout",
     "output_type": "stream",
     "text": [
      "SQL query returned 41173 galaxies\n"
     ]
    }
   ],
   "source": [
    "query=\"\"\"\n",
    "SELECT p.objId,p.ra,p.dec,p.petror90_r, p.expAB_r,\n",
    "    p.dered_u as u, p.dered_g as g, p.dered_r as r, p.dered_i as i, \n",
    "    s.z, s.plate, s.mjd, s.fiberid, p.g as mag, n.sersic_n\n",
    "FROM galaxy AS p\n",
    "   JOIN SpecObj AS s ON s.bestobjid = p.objid\n",
    "   JOIN nsatlas AS n ON n.mjd = s.mjd and n.fiberID = s.fiberID and n.plate = s.plate\n",
    "WHERE p.petror90_r > 10\n",
    "  and p.ra between 0 and 360\n",
    "  and s.z between 0.02 and .1\n",
    "  and p.g < 17\n",
    "\"\"\"\n",
    "newgals = CasJobs.executeQuery(query, \"dr14\")\n",
    "\n",
    "print(\"SQL query returned \" + str(len(newgals))+ \" galaxies\")\n"
   ]
  },
  {
   "cell_type": "code",
   "execution_count": 11,
   "metadata": {},
   "outputs": [
    {
     "name": "stdout",
     "output_type": "stream",
     "text": [
      "SQL query finished.\n",
      "SQL query returned 225268 galaxies\n"
     ]
    }
   ],
   "source": [
    "query=\"\"\"\n",
    "SELECT\n",
    "objid as objId, nvote,\n",
    "p_el as elliptical,\n",
    "p_cw as spiralclock, p_acw as spiralanticlock, p_edge as edgeon,\n",
    "p_dk as dontknow, p_mg as merger, ra, dec\n",
    "FROM ZooNoSpec\n",
    "\"\"\"\n",
    "#Then, query the database. The answer is a table that is being returned to a dataframe that we've named all_gals.\n",
    "zoo_gals = CasJobs.executeQuery(query, \"dr8\")\n",
    "\n",
    "print(\"SQL query finished.\")\n",
    "print(\"SQL query returned \" + str(len(zoo_gals))+ \" galaxies\")"
   ]
  },
  {
   "cell_type": "code",
   "execution_count": 15,
   "metadata": {},
   "outputs": [
    {
     "name": "stdout",
     "output_type": "stream",
     "text": [
      "2440\n"
     ]
    }
   ],
   "source": [
    "gals_with_zoo =  pd.merge(zoo_gals, newgals, on='objId').dropna().reset_index()\n",
    "number_of_gals = len(gals_with_zoo)\n",
    "print(str(number_of_gals))\n"
   ]
  },
  {
   "cell_type": "code",
   "execution_count": 7,
   "metadata": {},
   "outputs": [],
   "source": [
    "newgals['red_color'] = newgals['u'] - newgals['g']"
   ]
  },
  {
   "cell_type": "code",
   "execution_count": 10,
   "metadata": {},
   "outputs": [
    {
     "data": {
      "text/plain": [
       "(0.5, 2.5)"
      ]
     },
     "execution_count": 10,
     "metadata": {},
     "output_type": "execute_result"
    },
    {
     "data": {
      "image/png": "[encoded data removed]",
      "text/plain": [
       "<Figure size 432x288 with 1 Axes>"
      ]
     },
     "metadata": {
      "needs_background": "light"
     },
     "output_type": "display_data"
    }
   ],
   "source": [
    "\n",
    "newgals['red_color'].hist(bins=1000)\n",
    "plt.xlim(0.5,2.5)"
   ]
  },
  {
   "cell_type": "code",
   "execution_count": null,
   "metadata": {},
   "outputs": [],
   "source": []
  }
 ],
 "metadata": {
  "kernelspec": {
   "display_name": "Python 3",
   "language": "python",
   "name": "python3"
  },
  "language_info": {
   "codemirror_mode": {
    "name": "ipython",
    "version": 3
   },
   "file_extension": ".py",
   "mimetype": "text/x-python",
   "name": "python",
   "nbconvert_exporter": "python",
   "pygments_lexer": "ipython3",
   "version": "3.7.3"
  }
 },
 "nbformat": 4,
 "nbformat_minor": 2
}
